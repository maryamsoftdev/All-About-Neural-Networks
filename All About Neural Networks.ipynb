{
 "cells": [
  {
   "cell_type": "code",
   "execution_count": 3,
   "id": "a08f3a3d",
   "metadata": {},
   "outputs": [
    {
     "name": "stdout",
     "output_type": "stream",
     "text": [
      "21.3\n"
     ]
    }
   ],
   "source": [
    "#Basic neuron code\n",
    "inputs=[1.2,1.3,2.4]\n",
    "weights=[2,3,5]\n",
    "bias=3\n",
    "output=inputs[0]*weights[0]+inputs[1]*weights[1]+inputs[2]*weights[2]+bias\n",
    "print(output)"
   ]
  },
  {
   "cell_type": "code",
   "execution_count": 6,
   "id": "935687b6",
   "metadata": {},
   "outputs": [
    {
     "name": "stdout",
     "output_type": "stream",
     "text": [
      "6.256\n"
     ]
    }
   ],
   "source": [
    "#Basic neuron code with 4 inputs\n",
    "inputs=[1.2,1.3,2.4,3.3]\n",
    "weights=[0.5,3.0,0.15,0.12]\n",
    "bias=1\n",
    "output=inputs[0]*weights[0]+inputs[1]*weights[1]+inputs[2]*weights[2]+inputs[3]*weights[3]+bias\n",
    "print(output)"
   ]
  },
  {
   "cell_type": "code",
   "execution_count": 7,
   "id": "2dcf042d",
   "metadata": {},
   "outputs": [
    {
     "name": "stdout",
     "output_type": "stream",
     "text": [
      "[6.256, 6.324999999999999, 13.85]\n"
     ]
    }
   ],
   "source": [
    "#3 neurons with 4 inputs\n",
    "inputs=[1.2,1.3,2.4,3.3]\n",
    "weights1=[0.5,3.0,0.15,0.12]\n",
    "weights2=[2.0,0.83,-0.5,0.62]\n",
    "weights3=[1.7,3.5,1.5,0.2]\n",
    "bias=[1,2,3]\n",
    "output=[inputs[0]*weights1[0]+inputs[1]*weights1[1]+inputs[2]*weights1[2]+inputs[3]*weights1[3]+bias[0],\n",
    "         inputs[0]*weights2[0]+inputs[1]*weights2[1]+inputs[2]*weights2[2]+inputs[3]*weights2[3]+bias[1],\n",
    "         inputs[0]*weights3[0]+inputs[1]*weights3[1]+inputs[2]*weights3[2]+inputs[3]*weights3[3]+bias[2]]\n",
    "print(output)"
   ]
  },
  {
   "cell_type": "code",
   "execution_count": 12,
   "id": "507d644c",
   "metadata": {},
   "outputs": [
    {
     "name": "stdout",
     "output_type": "stream",
     "text": [
      "[6.256, 6.324999999999999, 13.85]\n"
     ]
    }
   ],
   "source": [
    "#3 neurons with 4 inputs\n",
    "inputs=[1.2,1.3,2.4,3.3]\n",
    "weights=[[0.5,3.0,0.15,0.12],\n",
    "         [2.0,0.83,-0.5,0.62],\n",
    "         [1.7,3.5,1.5,0.2]]\n",
    "biases=[1,2,3]\n",
    "layer_outputs = []\n",
    "\n",
    "for neuron_weights, neuron_bias in zip(weights, biases):\n",
    "    neuron_output = 0\n",
    "    for n_input, weight in zip(inputs, neuron_weights):\n",
    "        neuron_output += n_input * weight\n",
    "    neuron_output += neuron_bias  # Adding bias outside the inner loop\n",
    "    layer_outputs.append(neuron_output)\n",
    "\n",
    "print(layer_outputs)\n"
   ]
  },
  {
   "cell_type": "code",
   "execution_count": 18,
   "id": "817a46ff",
   "metadata": {},
   "outputs": [
    {
     "name": "stdout",
     "output_type": "stream",
     "text": [
      "[ 6.256  6.325 13.85 ]\n"
     ]
    }
   ],
   "source": [
    "#Basic neuron code with 4 inputs with numpy\n",
    "import numpy as np\n",
    "\n",
    "inputs = np.array([1.2, 1.3, 2.4, 3.3])\n",
    "weights = np.array([[0.5, 3.0, 0.15, 0.12],\n",
    "                    [2.0, 0.83, -0.5, 0.62],\n",
    "                    [1.7, 3.5, 1.5, 0.2]])\n",
    "biases = np.array([1, 2, 3]) \n",
    "output = np.dot(weights, inputs) + biases \n",
    "print(output)\n"
   ]
  },
  {
   "cell_type": "code",
   "execution_count": 21,
   "id": "a658801a",
   "metadata": {},
   "outputs": [
    {
     "name": "stdout",
     "output_type": "stream",
     "text": [
      "[[ 6.256  6.325 13.85 ]\n",
      " [ 6.256  6.325 13.85 ]\n",
      " [ 6.256  6.325 13.85 ]]\n"
     ]
    }
   ],
   "source": [
    "#Basic neuron code for 3 examples and 4 features at input with 3 neurons and 4 inputs as there is 4 features with numpy\n",
    "import numpy as np\n",
    "\n",
    "inputs = np.array([[1.2, 1.3, 2.4, 3.3],\n",
    "                 [1.2, 1.3, 2.4, 3.3],\n",
    "                  [1.2, 1.3, 2.4, 3.3]])\n",
    "weights = np.array([[0.5, 3.0, 0.15, 0.12],\n",
    "                    [2.0, 0.83, -0.5, 0.62],\n",
    "                    [1.7, 3.5, 1.5, 0.2]])\n",
    "biases = np.array([1, 2, 3]) \n",
    "output = np.dot( inputs,weights.T) + biases \n",
    "print(output)\n"
   ]
  },
  {
   "cell_type": "code",
   "execution_count": 25,
   "id": "d4ac0a49",
   "metadata": {},
   "outputs": [
    {
     "name": "stdout",
     "output_type": "stream",
     "text": [
      "Layer 1 output:\n",
      "[[ 6.256  6.325 13.85 ]\n",
      " [ 6.256  6.325 13.85 ]\n",
      " [ 6.256  6.325 13.85 ]]\n",
      "\n",
      "Layer 2 output:\n",
      "[[ 6.1456 14.1749 22.2042]\n",
      " [ 6.1456 14.1749 22.2042]\n",
      " [ 6.1456 14.1749 22.2042]]\n"
     ]
    }
   ],
   "source": [
    "#two layer, 1 layer 1 with 4 neoron and layer 2 with 3 neurons, weight depend upon number of neurons\n",
    "import numpy as np\n",
    "\n",
    "inputs = np.array([[1.2, 1.3, 2.4, 3.3],\n",
    "                   [1.2, 1.3, 2.4, 3.3],\n",
    "                   [1.2, 1.3, 2.4, 3.3]])\n",
    "\n",
    "weights1 = np.array([[0.5, 3.0, 0.15, 0.12],\n",
    "                     [2.0, 0.83, -0.5, 0.62],\n",
    "                     [1.7, 3.5, 1.5, 0.2]])\n",
    "biases1 = np.array([1, 2, 3]) \n",
    "\n",
    "weights2 = np.array([[0.1, 0.2, 0.3],\n",
    "                     [0.4, 0.5, 0.6],\n",
    "                     [0.7, 0.8, 0.9]])\n",
    "biases2 = np.array([0.1, 0.2, 0.3]) \n",
    "\n",
    "layer1_output = np.dot(inputs, weights1.T) + biases1 \n",
    "layer2_output = np.dot(layer1_output, weights2.T) + biases2\n",
    "\n",
    "print(\"Layer 1 output:\")\n",
    "print(layer1_output)\n",
    "print(\"\\nLayer 2 output:\")\n",
    "print(layer2_output)\n"
   ]
  },
  {
   "cell_type": "code",
   "execution_count": 36,
   "id": "1187330f",
   "metadata": {},
   "outputs": [
    {
     "name": "stdout",
     "output_type": "stream",
     "text": [
      "layer 1: [[0.22932314 1.0136021  0.21271895 0.38800308 0.10216035]\n",
      " [0.22932314 1.0136021  0.21271895 0.38800308 0.10216035]\n",
      " [0.22932314 1.0136021  0.21271895 0.38800308 0.10216035]]\n",
      "layer 2: [[ 0.09478982 -0.0834259 ]\n",
      " [ 0.09478982 -0.0834259 ]\n",
      " [ 0.09478982 -0.0834259 ]]\n"
     ]
    }
   ],
   "source": [
    "import numpy as np\n",
    "np.random.seed(0)\n",
    "\n",
    "X = np.array([[1.2, 1.3, 2.4, 3.3],\n",
    "                   [1.2, 1.3, 2.4, 3.3],\n",
    "                   [1.2, 1.3, 2.4, 3.3]])\n",
    "class layer_dense:\n",
    "    def __init__(self,n_inputs, n_neurons):\n",
    "        self.weights= 0.10*np.random.randn(n_inputs, n_neurons)\n",
    "        self.biases=np.zeros((1,n_neurons))\n",
    "    def forward(self,inputs):\n",
    "        self.ouput=np.dot(inputs, self.weights) + self.biases\n",
    "        \n",
    "        \n",
    "layer1=layer_dense(4,5)  #object1\n",
    "layer2=layer_dense(5,2)  #abject2\n",
    "\n",
    "layer1.forward(X)\n",
    "layer2.forward(layer1.ouput)\n",
    "    \n",
    "    \n",
    "print('layer 1:',layer1.ouput)\n",
    "print('layer 2:',layer2.ouput)"
   ]
  },
  {
   "cell_type": "code",
   "execution_count": null,
   "id": "2f814c86",
   "metadata": {},
   "outputs": [],
   "source": []
  }
 ],
 "metadata": {
  "kernelspec": {
   "display_name": "Python 3 (ipykernel)",
   "language": "python",
   "name": "python3"
  },
  "language_info": {
   "codemirror_mode": {
    "name": "ipython",
    "version": 3
   },
   "file_extension": ".py",
   "mimetype": "text/x-python",
   "name": "python",
   "nbconvert_exporter": "python",
   "pygments_lexer": "ipython3",
   "version": "3.11.5"
  }
 },
 "nbformat": 4,
 "nbformat_minor": 5
}
