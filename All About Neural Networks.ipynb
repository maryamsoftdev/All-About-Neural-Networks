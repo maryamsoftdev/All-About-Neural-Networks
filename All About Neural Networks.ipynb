{
 "cells": [
  {
   "cell_type": "code",
   "execution_count": 3,
   "id": "7806c29a",
   "metadata": {},
   "outputs": [
    {
     "name": "stdout",
     "output_type": "stream",
     "text": [
      "21.3\n"
     ]
    }
   ],
   "source": [
    "#Basic neuron code\n",
    "inputs=[1.2,1.3,2.4]\n",
    "weights=[2,3,5]\n",
    "bias=3\n",
    "output=inputs[0]*weights[0]+inputs[1]*weights[1]+inputs[2]*weights[2]+bias\n",
    "print(output)"
   ]
  },
  {
   "cell_type": "code",
   "execution_count": 6,
   "id": "97e13bf3",
   "metadata": {},
   "outputs": [
    {
     "name": "stdout",
     "output_type": "stream",
     "text": [
      "6.256\n"
     ]
    }
   ],
   "source": [
    "#Basic neuron code with 4 inputs\n",
    "inputs=[1.2,1.3,2.4,3.3]\n",
    "weights=[0.5,3.0,0.15,0.12]\n",
    "bias=1\n",
    "output=inputs[0]*weights[0]+inputs[1]*weights[1]+inputs[2]*weights[2]+inputs[3]*weights[3]+bias\n",
    "print(output)"
   ]
  },
  {
   "cell_type": "code",
   "execution_count": 7,
   "id": "1944e3da",
   "metadata": {},
   "outputs": [
    {
     "name": "stdout",
     "output_type": "stream",
     "text": [
      "[6.256, 6.324999999999999, 13.85]\n"
     ]
    }
   ],
   "source": [
    "#3 neurons with 4 inputs\n",
    "inputs=[1.2,1.3,2.4,3.3]\n",
    "weights1=[0.5,3.0,0.15,0.12]\n",
    "weights2=[2.0,0.83,-0.5,0.62]\n",
    "weights3=[1.7,3.5,1.5,0.2]\n",
    "bias=[1,2,3]\n",
    "output=[inputs[0]*weights1[0]+inputs[1]*weights1[1]+inputs[2]*weights1[2]+inputs[3]*weights1[3]+bias[0],\n",
    "         inputs[0]*weights2[0]+inputs[1]*weights2[1]+inputs[2]*weights2[2]+inputs[3]*weights2[3]+bias[1],\n",
    "         inputs[0]*weights3[0]+inputs[1]*weights3[1]+inputs[2]*weights3[2]+inputs[3]*weights3[3]+bias[2]]\n",
    "print(output)"
   ]
  },
  {
   "cell_type": "code",
   "execution_count": 12,
   "id": "2fbb6f7a",
   "metadata": {},
   "outputs": [
    {
     "name": "stdout",
     "output_type": "stream",
     "text": [
      "[6.256, 6.324999999999999, 13.85]\n"
     ]
    }
   ],
   "source": [
    "#3 neurons with 4 inputs\n",
    "inputs=[1.2,1.3,2.4,3.3]\n",
    "weights=[[0.5,3.0,0.15,0.12],\n",
    "         [2.0,0.83,-0.5,0.62],\n",
    "         [1.7,3.5,1.5,0.2]]\n",
    "biases=[1,2,3]\n",
    "layer_outputs = []\n",
    "\n",
    "for neuron_weights, neuron_bias in zip(weights, biases):\n",
    "    neuron_output = 0\n",
    "    for n_input, weight in zip(inputs, neuron_weights):\n",
    "        neuron_output += n_input * weight\n",
    "    neuron_output += neuron_bias  # Adding bias outside the inner loop\n",
    "    layer_outputs.append(neuron_output)\n",
    "\n",
    "print(layer_outputs)\n"
   ]
  },
  {
   "cell_type": "code",
   "execution_count": 18,
   "id": "be0d8e52",
   "metadata": {},
   "outputs": [
    {
     "name": "stdout",
     "output_type": "stream",
     "text": [
      "[ 6.256  6.325 13.85 ]\n"
     ]
    }
   ],
   "source": [
    "#Basic neuron code with 4 inputs with numpy\n",
    "import numpy as np\n",
    "\n",
    "inputs = np.array([1.2, 1.3, 2.4, 3.3])\n",
    "weights = np.array([[0.5, 3.0, 0.15, 0.12],\n",
    "                    [2.0, 0.83, -0.5, 0.62],\n",
    "                    [1.7, 3.5, 1.5, 0.2]])\n",
    "biases = np.array([1, 2, 3]) \n",
    "output = np.dot(weights, inputs) + biases \n",
    "print(output)\n"
   ]
  },
  {
   "cell_type": "code",
   "execution_count": 21,
   "id": "49d55838",
   "metadata": {},
   "outputs": [
    {
     "name": "stdout",
     "output_type": "stream",
     "text": [
      "[[ 6.256  6.325 13.85 ]\n",
      " [ 6.256  6.325 13.85 ]\n",
      " [ 6.256  6.325 13.85 ]]\n"
     ]
    }
   ],
   "source": [
    "#Basic neuron code for 3 examples and 4 features at input with 3 neurons and 4 inputs as there is 4 features with numpy\n",
    "import numpy as np\n",
    "\n",
    "inputs = np.array([[1.2, 1.3, 2.4, 3.3],\n",
    "                 [1.2, 1.3, 2.4, 3.3],\n",
    "                  [1.2, 1.3, 2.4, 3.3]])\n",
    "weights = np.array([[0.5, 3.0, 0.15, 0.12],\n",
    "                    [2.0, 0.83, -0.5, 0.62],\n",
    "                    [1.7, 3.5, 1.5, 0.2]])\n",
    "biases = np.array([1, 2, 3]) \n",
    "output = np.dot( inputs,weights.T) + biases \n",
    "print(output)\n"
   ]
  },
  {
   "cell_type": "code",
   "execution_count": 25,
   "id": "d9d4804e",
   "metadata": {},
   "outputs": [
    {
     "name": "stdout",
     "output_type": "stream",
     "text": [
      "Layer 1 output:\n",
      "[[ 6.256  6.325 13.85 ]\n",
      " [ 6.256  6.325 13.85 ]\n",
      " [ 6.256  6.325 13.85 ]]\n",
      "\n",
      "Layer 2 output:\n",
      "[[ 6.1456 14.1749 22.2042]\n",
      " [ 6.1456 14.1749 22.2042]\n",
      " [ 6.1456 14.1749 22.2042]]\n"
     ]
    }
   ],
   "source": [
    "#two layer, 1 layer 1 with 4 neoron and layer 2 with 3 neurons, weight depend upon number of neurons\n",
    "import numpy as np\n",
    "\n",
    "inputs = np.array([[1.2, 1.3, 2.4, 3.3],\n",
    "                   [1.2, 1.3, 2.4, 3.3],\n",
    "                   [1.2, 1.3, 2.4, 3.3]])\n",
    "\n",
    "weights1 = np.array([[0.5, 3.0, 0.15, 0.12],\n",
    "                     [2.0, 0.83, -0.5, 0.62],\n",
    "                     [1.7, 3.5, 1.5, 0.2]])\n",
    "biases1 = np.array([1, 2, 3]) \n",
    "\n",
    "weights2 = np.array([[0.1, 0.2, 0.3],\n",
    "                     [0.4, 0.5, 0.6],\n",
    "                     [0.7, 0.8, 0.9]])\n",
    "biases2 = np.array([0.1, 0.2, 0.3]) \n",
    "\n",
    "layer1_output = np.dot(inputs, weights1.T) + biases1 \n",
    "layer2_output = np.dot(layer1_output, weights2.T) + biases2\n",
    "\n",
    "print(\"Layer 1 output:\")\n",
    "print(layer1_output)\n",
    "print(\"\\nLayer 2 output:\")\n",
    "print(layer2_output)\n"
   ]
  },
  {
   "cell_type": "code",
   "execution_count": 36,
   "id": "91ac2d1f",
   "metadata": {},
   "outputs": [
    {
     "name": "stdout",
     "output_type": "stream",
     "text": [
      "layer 1: [[0.22932314 1.0136021  0.21271895 0.38800308 0.10216035]\n",
      " [0.22932314 1.0136021  0.21271895 0.38800308 0.10216035]\n",
      " [0.22932314 1.0136021  0.21271895 0.38800308 0.10216035]]\n",
      "layer 2: [[ 0.09478982 -0.0834259 ]\n",
      " [ 0.09478982 -0.0834259 ]\n",
      " [ 0.09478982 -0.0834259 ]]\n"
     ]
    }
   ],
   "source": [
    "import numpy as np\n",
    "np.random.seed(0)\n",
    "\n",
    "X = np.array([[1.2, 1.3, 2.4, 3.3],\n",
    "                   [1.2, 1.3, 2.4, 3.3],\n",
    "                   [1.2, 1.3, 2.4, 3.3]])\n",
    "class layer_dense:\n",
    "    def __init__(self,n_inputs, n_neurons):\n",
    "        self.weights= 0.10*np.random.randn(n_inputs, n_neurons)\n",
    "        self.biases=np.zeros((1,n_neurons))\n",
    "    def forward(self,inputs):\n",
    "        self.ouput=np.dot(inputs, self.weights) + self.biases\n",
    "        \n",
    "        \n",
    "layer1=layer_dense(4,5)  #object1\n",
    "layer2=layer_dense(5,2)  #abject2\n",
    "\n",
    "layer1.forward(X)\n",
    "layer2.forward(layer1.ouput)\n",
    "    \n",
    "    \n",
    "print('layer 1:',layer1.ouput)\n",
    "print('layer 2:',layer2.ouput)"
   ]
  },
  {
   "cell_type": "code",
   "execution_count": 7,
   "id": "24943fe7",
   "metadata": {},
   "outputs": [
    {
     "name": "stdout",
     "output_type": "stream",
     "text": [
      "layer 1: [[ 0.00000000e+00  0.00000000e+00  0.00000000e+00  0.00000000e+00\n",
      "   0.00000000e+00]\n",
      " [-8.35815910e-04 -7.90404272e-04 -1.33452227e-03  4.65504505e-04\n",
      "   4.56846210e-05]\n",
      " [-2.39994470e-03  5.93469958e-05 -2.24808278e-03  2.03573116e-04\n",
      "   6.10024377e-04]\n",
      " ...\n",
      " [ 1.13291524e-01 -1.89262271e-01 -2.06855070e-02  8.11079666e-02\n",
      "  -6.71350807e-02]\n",
      " [ 1.34588361e-01 -1.43197834e-01  3.09493970e-02  5.66337556e-02\n",
      "  -6.29687458e-02]\n",
      " [ 1.07817926e-01 -2.00809643e-01 -3.37579325e-02  8.72561932e-02\n",
      "  -6.81458861e-02]]\n",
      "After Activation Fuction: [[0.00000000e+00 0.00000000e+00 0.00000000e+00 0.00000000e+00\n",
      "  0.00000000e+00]\n",
      " [0.00000000e+00 0.00000000e+00 0.00000000e+00 4.65504505e-04\n",
      "  4.56846210e-05]\n",
      " [0.00000000e+00 5.93469958e-05 0.00000000e+00 2.03573116e-04\n",
      "  6.10024377e-04]\n",
      " ...\n",
      " [1.13291524e-01 0.00000000e+00 0.00000000e+00 8.11079666e-02\n",
      "  0.00000000e+00]\n",
      " [1.34588361e-01 0.00000000e+00 3.09493970e-02 5.66337556e-02\n",
      "  0.00000000e+00]\n",
      " [1.07817926e-01 0.00000000e+00 0.00000000e+00 8.72561932e-02\n",
      "  0.00000000e+00]]\n"
     ]
    }
   ],
   "source": [
    "#adding activation function\n",
    "import numpy as np\n",
    "np.random.seed(0)\n",
    "import nnfs\n",
    "from nnfs.datasets import spiral_data\n",
    "'''\n",
    "def spiral_data(points, classes):\n",
    "X = np.zeros((points*classes, 2))\n",
    "y = np.zeros(points*classes, dtype='uint8')\n",
    "for class_number in range(classes):\n",
    "ix = range(points*class_number, points*(class_number+1))\n",
    "r = np.linspace(0.0, 1, points)  # radius\n",
    "t = np.linspace(class_number*4, (class_number+1)*4, points) + np.random.randn(points)*0.2\n",
    "X[ix] = np.c_[r*np.sin(t*2.5), r*np.cos(t*2.5)]\n",
    "y[ix] = class_number\n",
    "return X, y\n",
    "'''\n",
    "nnfs.init()\n",
    "\n",
    "X, y = spiral_data(100, 3)   \n",
    "'''\n",
    "X = np.array([[1.2, 1.3, 2.4, 3.3],\n",
    "              [1.2, 1.3, 2.4, 3.3],\n",
    "             [1.2, 1.3, 2.4, 3.3]])\n",
    "'''\n",
    "class layer_dense:\n",
    "    def __init__(self, n_inputs, n_neurons):\n",
    "        self.weights = 0.10 * np.random.randn(n_inputs, n_neurons)\n",
    "        self.biases = np.zeros((1, n_neurons))\n",
    "    def forward(self, inputs):\n",
    "        self.output = np.dot(inputs, self.weights) + self.biases\n",
    "\n",
    "class Activation_ReLU:  \n",
    "    def forward(self, inputs):\n",
    "        self.output = np.maximum(0, inputs)  \n",
    "\n",
    "layer1 = layer_dense(2, 5)  # object1\n",
    "Activation1 = Activation_ReLU()\n",
    "\n",
    "layer1.forward(X)\n",
    "print('layer 1:', layer1.output)\n",
    "Activation1.forward(layer1.output)\n",
    "print('After Activation Fuction:', Activation1.output)\n",
    "\n"
   ]
  },
  {
   "cell_type": "code",
   "execution_count": null,
   "id": "498459d7",
   "metadata": {},
   "outputs": [],
   "source": []
  }
 ],
 "metadata": {
  "kernelspec": {
   "display_name": "Python 3 (ipykernel)",
   "language": "python",
   "name": "python3"
  },
  "language_info": {
   "codemirror_mode": {
    "name": "ipython",
    "version": 3
   },
   "file_extension": ".py",
   "mimetype": "text/x-python",
   "name": "python",
   "nbconvert_exporter": "python",
   "pygments_lexer": "ipython3",
   "version": "3.11.5"
  }
 },
 "nbformat": 4,
 "nbformat_minor": 5
}
