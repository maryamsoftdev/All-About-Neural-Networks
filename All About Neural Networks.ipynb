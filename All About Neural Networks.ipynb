{
 "cells": [
  {
   "cell_type": "code",
   "execution_count": 3,
   "id": "a2c53a5f",
   "metadata": {},
   "outputs": [
    {
     "name": "stdout",
     "output_type": "stream",
     "text": [
      "21.3\n"
     ]
    }
   ],
   "source": [
    "#Basic neuron code\n",
    "inputs=[1.2,1.3,2.4]\n",
    "weights=[2,3,5]\n",
    "bias=3\n",
    "output=inputs[0]*weights[0]+inputs[1]*weights[1]+inputs[2]*weights[2]+bias\n",
    "print(output)"
   ]
  },
  {
   "cell_type": "code",
   "execution_count": 6,
   "id": "0afad22a",
   "metadata": {},
   "outputs": [
    {
     "name": "stdout",
     "output_type": "stream",
     "text": [
      "6.256\n"
     ]
    }
   ],
   "source": [
    "#Basic neuron code with 4 inputs\n",
    "inputs=[1.2,1.3,2.4,3.3]\n",
    "weights=[0.5,3.0,0.15,0.12]\n",
    "bias=1\n",
    "output=inputs[0]*weights[0]+inputs[1]*weights[1]+inputs[2]*weights[2]+inputs[3]*weights[3]+bias\n",
    "print(output)"
   ]
  },
  {
   "cell_type": "code",
   "execution_count": 7,
   "id": "8a8276a4",
   "metadata": {},
   "outputs": [
    {
     "name": "stdout",
     "output_type": "stream",
     "text": [
      "[6.256, 6.324999999999999, 13.85]\n"
     ]
    }
   ],
   "source": [
    "#3 neurons with 4 inputs\n",
    "inputs=[1.2,1.3,2.4,3.3]\n",
    "weights1=[0.5,3.0,0.15,0.12]\n",
    "weights2=[2.0,0.83,-0.5,0.62]\n",
    "weights3=[1.7,3.5,1.5,0.2]\n",
    "bias=[1,2,3]\n",
    "output=[inputs[0]*weights1[0]+inputs[1]*weights1[1]+inputs[2]*weights1[2]+inputs[3]*weights1[3]+bias[0],\n",
    "         inputs[0]*weights2[0]+inputs[1]*weights2[1]+inputs[2]*weights2[2]+inputs[3]*weights2[3]+bias[1],\n",
    "         inputs[0]*weights3[0]+inputs[1]*weights3[1]+inputs[2]*weights3[2]+inputs[3]*weights3[3]+bias[2]]\n",
    "print(output)"
   ]
  },
  {
   "cell_type": "code",
   "execution_count": 12,
   "id": "c39b5ec5",
   "metadata": {},
   "outputs": [
    {
     "name": "stdout",
     "output_type": "stream",
     "text": [
      "[6.256, 6.324999999999999, 13.85]\n"
     ]
    }
   ],
   "source": [
    "#3 neurons with 4 inputs\n",
    "inputs=[1.2,1.3,2.4,3.3]\n",
    "weights=[[0.5,3.0,0.15,0.12],\n",
    "         [2.0,0.83,-0.5,0.62],\n",
    "         [1.7,3.5,1.5,0.2]]\n",
    "biases=[1,2,3]\n",
    "layer_outputs = []\n",
    "\n",
    "for neuron_weights, neuron_bias in zip(weights, biases):\n",
    "    neuron_output = 0\n",
    "    for n_input, weight in zip(inputs, neuron_weights):\n",
    "        neuron_output += n_input * weight\n",
    "    neuron_output += neuron_bias  # Adding bias outside the inner loop\n",
    "    layer_outputs.append(neuron_output)\n",
    "\n",
    "print(layer_outputs)\n"
   ]
  },
  {
   "cell_type": "code",
   "execution_count": 14,
   "id": "c72b25df",
   "metadata": {},
   "outputs": [
    {
     "name": "stdout",
     "output_type": "stream",
     "text": [
      "6.256\n"
     ]
    }
   ],
   "source": [
    "#Basic neuron code with 4 inputs with numpy\n",
    "import numpy as np\n",
    "inputs=[1.2,1.3,2.4,3.3]\n",
    "weights=[0.5,3.0,0.15,0.12]\n",
    "bias=1\n",
    "output=np.dot(inputs,weights)+bias\n",
    "print(output)"
   ]
  },
  {
   "cell_type": "code",
   "execution_count": null,
   "id": "5e361168",
   "metadata": {},
   "outputs": [],
   "source": []
  }
 ],
 "metadata": {
  "kernelspec": {
   "display_name": "Python 3 (ipykernel)",
   "language": "python",
   "name": "python3"
  },
  "language_info": {
   "codemirror_mode": {
    "name": "ipython",
    "version": 3
   },
   "file_extension": ".py",
   "mimetype": "text/x-python",
   "name": "python",
   "nbconvert_exporter": "python",
   "pygments_lexer": "ipython3",
   "version": "3.11.5"
  }
 },
 "nbformat": 4,
 "nbformat_minor": 5
}
